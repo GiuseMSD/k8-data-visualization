{
  "nbformat": 4,
  "nbformat_minor": 0,
  "metadata": {
    "colab": {
      "name": "Introduction to Google Colab - Video.ipynb",
      "provenance": [],
      "authorship_tag": "ABX9TyPOOuzl0BopjzSbq6tk6QG6",
      "include_colab_link": true
    },
    "kernelspec": {
      "name": "python3",
      "display_name": "Python 3"
    }
  },
  "cells": [
    {
      "cell_type": "markdown",
      "metadata": {
        "id": "view-in-github",
        "colab_type": "text"
      },
      "source": [
        "<a href=\"https://colab.research.google.com/github/baker371/k8-data-visualization/blob/lwasampijja-baker/upwork-devs/lwasampijja-baker/Introduction_to_Google_Colab_Video.ipynb\" target=\"_parent\"><img src=\"https://colab.research.google.com/assets/colab-badge.svg\" alt=\"Open In Colab\"/></a>"
      ]
    },
    {
      "cell_type": "markdown",
      "metadata": {
        "id": "YdKNMm6YDsS-",
        "colab_type": "text"
      },
      "source": [
        "### Welcome to Google Colab"
      ]
    },
    {
      "cell_type": "code",
      "metadata": {
        "id": "UU7whIjeLXNt",
        "colab_type": "code",
        "colab": {
          "base_uri": "https://localhost:8080/",
          "height": 521
        },
        "outputId": "f05c7baf-bce5-4a6d-90f4-4adda11b5c39"
      },
       video:https://www.youtube.com/embed/pRRKxtHaetw,
      "execution_count": 6,
      "outputs": [
        {
          "output_type": "execute_result",
          "data": {
            "text/html": [ 
              ],
            "text/plain": [
              "<IPython.core.display.HTML object>"
            ]
          },
          "metadata": {
            "tags": []
          },
          "execution_count": 6
        }
      ]
    }
  ]
}
