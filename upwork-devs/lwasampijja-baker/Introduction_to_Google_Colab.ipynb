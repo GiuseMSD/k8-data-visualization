{
  "nbformat": 4,
  "nbformat_minor": 0,
  "metadata": {
    "colab": {
      "name": "Introduction to Google Colab.ipynb",
      "provenance": [],
      "toc_visible": true,
      "mount_file_id": "1vshQ0utKm7Sa2EDRtAluN146oSsqVySp",
      "authorship_tag": "ABX9TyOE6Cln0wKSbPHc3R3tUcgg",
      "include_colab_link": true
    },
    "kernelspec": {
      "name": "python3",
      "display_name": "Python 3"
    }
  },
  "cells": [
    {
      "cell_type": "markdown",
      "metadata": {
        "id": "view-in-github",
        "colab_type": "text"
      },
      "source": [
        "<a href=\"https://colab.research.google.com/github/baker371/k8-data-visualization/blob/lwasampijja-baker/upwork-devs/lwasampijja-baker/Introduction_to_Google_Colab.ipynb\" target=\"_parent\"><img src=\"https://colab.research.google.com/assets/colab-badge.svg\" alt=\"Open In Colab\"/></a>"
      ]
    },
    {
      "cell_type": "markdown",
      "metadata": {
        "id": "olglENk1mC3e",
        "colab_type": "text"
      },
      "source": [
        "## **Introduction to Google colaboratory (Colab)** \n"
      ]
    },
    {
      "cell_type": "markdown",
      "metadata": {
        "id": "k1VQnhrtmpG0",
        "colab_type": "text"
      },
      "source": [
        "Google released its internal research tool “Colaboratory” which is a tool for machine learning education and research. It’s a **Jupyter notebook** environment that requires no setup to use. In simpler terms, it’s a jupyter notebook with all the collaboration abilities of Google docs, meaning more than one person can work on the same code at the same time. But, the real attraction is the free computing power that this tool offers. Google colab currently offers the computing services of a Tesla K80 GPU for free."
      ]
    },
    {
      "cell_type": "markdown",
      "metadata": {
        "id": "JVYyVswLthyN",
        "colab_type": "text"
      },
      "source": [
        "### 1. Getting Started"
      ]
    },
    {
      "cell_type": "markdown",
      "metadata": {
        "id": "UNN9NXtsBBhv",
        "colab_type": "text"
      },
      "source": [
        " ![](http://drive.google.com/uc?export=view&id=1ZTSHY6fMu4HF8opXkTXKlhXHMJmfNFbD)"
      ]
    },
    {
      "cell_type": "markdown",
      "metadata": {
        "id": "F7pCCu2Qt4bm",
        "colab_type": "text"
      },
      "source": [
        "Go to www.google.com and type in Google colab. Click on Google Colab as shown in the image above. You must have and logged into your Gmail account."
      ]
    },
    {
      "cell_type": "markdown",
      "metadata": {
        "id": "Krk5OTOiuMBa",
        "colab_type": "text"
      },
      "source": [
        "### 2. Openning Google Colab"
      ]
    },
    {
      "cell_type": "markdown",
      "metadata": {
        "id": "_lj3I9E-DDJj",
        "colab_type": "text"
      },
      "source": [
        "  ![](http://drive.google.com/uc?export=view&id=1wlGSQOuNYXExmeHYkR9MjXrE5LXiGFfF)"
      ]
    },
    {
      "cell_type": "markdown",
      "metadata": {
        "id": "cBxmPcRJu5w8",
        "colab_type": "text"
      },
      "source": [
        "To select Jupyter notebooks already on your github, select Github as indicated in (1) above and copy your Github link as shown in (2).\n",
        "Select the appropriate repository and branch as you see fit (3). Existing notebooks will be highlighted and you can choose to open any (4) or go ahead to create a new notebook (5)."
      ]
    },
    {
      "cell_type": "markdown",
      "metadata": {
        "id": "tkXoKqP6wo1Z",
        "colab_type": "text"
      },
      "source": [
        "### 3. Inside the Notebook"
      ]
    },
    {
      "cell_type": "markdown",
      "metadata": {
        "id": "i3WsFSGZDZQN",
        "colab_type": "text"
      },
      "source": [
        "![](http://drive.google.com/uc?export=view&id=1J5m4MkbPH2sm5882Wn2u2cUFLeL614QT)"
      ]
    },
    {
      "cell_type": "markdown",
      "metadata": {
        "id": "laqhnJq_xI-2",
        "colab_type": "text"
      },
      "source": [
        "Just like any Google Doc, the notebook looks similar with some key features including;\n",
        "1. To add a code block.\n",
        "2. To add a text block.\n",
        "3. Upload files from the local drive or mount your Google drive.\n",
        "4. The ability to add comments.\n",
        "5. Share the notebook with specific individuals.\n",
        "6. etc"
      ]
    },
    {
      "cell_type": "markdown",
      "metadata": {
        "id": "-YpfbtXJyYd4",
        "colab_type": "text"
      },
      "source": [
        "### 4. The Code Blocks"
      ]
    },
    {
      "cell_type": "markdown",
      "metadata": {
        "id": "OSgHbP0xDvAn",
        "colab_type": "text"
      },
      "source": [
        "![](http://drive.google.com/uc?export=view&id=1DRwICaPfUreMV9fK8vmtCF5sIuQV1Hr9)"
      ]
    },
    {
      "cell_type": "markdown",
      "metadata": {
        "id": "uAM6rgCO0e-x",
        "colab_type": "text"
      },
      "source": [
        "As you will soon realise, most of the python packages you will need are already installed and up to date. However if you need a package that is not installed, you can always go ahead and install it. \n",
        "\n",
        "To run the code, click on the \"play\" button. Happy coding!"
      ]
    },
    {
      "cell_type": "markdown",
      "metadata": {
        "id": "W46h06dL1qCc",
        "colab_type": "text"
      },
      "source": [
        ""
      ]
    },
    {
      "cell_type": "markdown",
      "metadata": {
        "id": "bYbkbqqM1p_2",
        "colab_type": "text"
      },
      "source": [
        "### 5. The Text Blocks\n",
        "\n",
        "These work even better than the normal jupyter notebooks with normal text editor menu and buttons to bold text, create hyper links, add images, e.t.c. \n",
        "\n",
        "**Note:** The usual notebook markdown still works here and feel free to use it."
      ]
    },
    {
      "cell_type": "markdown",
      "metadata": {
        "id": "IgItzLH_1p8p",
        "colab_type": "text"
      },
      "source": [
        "### 6. Commiting your work to Github."
      ]
    },
    {
      "cell_type": "markdown",
      "metadata": {
        "id": "Q7Z29ELV3-5r",
        "colab_type": "text"
      },
      "source": [
        "1. Sign into your Github account because you will be asked to authenticate.\n",
        "2. Go to File -> Save a copy in Github, the following pop up will show up."
      ]
    },
    {
      "cell_type": "markdown",
      "metadata": {
        "id": "uND4IENMD_So",
        "colab_type": "text"
      },
      "source": [
        "![](http://drive.google.com/uc?export=view&id=1nxtXxaOv8_vEbTna0dzCtbbRb5XxPpmi)"
      ]
    },
    {
      "cell_type": "markdown",
      "metadata": {
        "id": "lKddyxw04mKb",
        "colab_type": "text"
      },
      "source": [
        "3. Specifiy your repository, and select the appropriate branch if any.\n",
        "4. Specify the path where you would like your notebook to be saved.\n",
        "5. Write your commit message and click ok."
      ]
    },
    {
      "cell_type": "markdown",
      "metadata": {
        "id": "7g3cJCWN5MPB",
        "colab_type": "text"
      },
      "source": [
        "### Advanced Use"
      ]
    },
    {
      "cell_type": "markdown",
      "metadata": {
        "id": "Mbj_YKS_7bXm",
        "colab_type": "text"
      },
      "source": [
        "1. The notebook can be kept private, shared with rights to view only, edit,  amongest multiple individuals or to be viewed by anyone with a link.\n",
        "2. Just like anyother Google Doc, the notebook has its own version control.\n",
        "3. API can be imported directly or as a file for usage."
      ]
    },
    {
      "cell_type": "markdown",
      "metadata": {
        "id": "Rgu3YEcz8obp",
        "colab_type": "text"
      },
      "source": [
        "## <center> THE END </center>"
      ]
    }
  ]
}