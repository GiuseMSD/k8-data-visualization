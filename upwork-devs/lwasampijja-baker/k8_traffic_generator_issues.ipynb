{
  "nbformat": 4,
  "nbformat_minor": 0,
  "metadata": {
    "colab": {
      "name": "k8-traffic-generator-issues.ipynb",
      "provenance": [],
      "collapsed_sections": [],
      "mount_file_id": "1Kk-ieY-ANpl1fISfkkCBbF5PVvp1JgZ1",
      "authorship_tag": "ABX9TyMPvbaOD76rbRH7bSbrBq7D",
      "include_colab_link": true
    },
    "kernelspec": {
      "name": "python3",
      "display_name": "Python 3"
    }
  },
  "cells": [
    {
      "cell_type": "markdown",
      "metadata": {
        "id": "view-in-github",
        "colab_type": "text"
      },
      "source": [
        "<a href=\"https://colab.research.google.com/github/baker371/k8-data-visualization/blob/lwasampijja-baker/upwork-devs/lwasampijja-baker/k8_traffic_generator_issues.ipynb\" target=\"_parent\"><img src=\"https://colab.research.google.com/assets/colab-badge.svg\" alt=\"Open In Colab\"/></a>"
      ]
    },
    {
      "cell_type": "code",
      "metadata": {
        "id": "l_pYaNJxr6H-",
        "colab_type": "code",
        "colab": {}
      },
      "source": [
        "import requests\n",
        "import pandas as pd \n",
        "import json\n",
        "from pandas.io.json import json_normalize #package for flattening json in pandas df\n",
        "\n",
        "import warnings\n",
        "warnings.filterwarnings('ignore')"
      ],
      "execution_count": 4,
      "outputs": []
    },
    {
      "cell_type": "code",
      "metadata": {
        "id": "lj81lcZMPIrM",
        "colab_type": "code",
        "colab": {
          "base_uri": "https://localhost:8080/",
          "height": 487
        },
        "outputId": "5675eda1-b4ee-4b2f-cd96-3d2cd08dcb3d"
      },
      "source": [
        "token = ''\n",
        "\n",
        "headers = {'X-Authentication-Token': token, }\n",
        "\n",
        "url = 'https://api.zenhub.io/p1/repositories/289667349/board'\n",
        "\n",
        "r = requests.get(url, headers=headers).json()\n",
        "\n",
        "data = r \n",
        "\n",
        "data"
      ],
      "execution_count": 5,
      "outputs": [
        {
          "output_type": "execute_result",
          "data": {
            "text/plain": [
              "{'pipelines': [{'id': 'Z2lkOi8vcmFwdG9yL1BpcGVsaW5lLzIxOTE4OTQ',\n",
              "   'issues': [],\n",
              "   'name': 'New Issues'},\n",
              "  {'id': 'Z2lkOi8vcmFwdG9yL1BpcGVsaW5lLzIxOTE4OTY',\n",
              "   'issues': [{'is_epic': False, 'issue_number': 6, 'position': 1},\n",
              "    {'is_epic': False, 'issue_number': 8, 'position': 2},\n",
              "    {'is_epic': False, 'issue_number': 34, 'position': 6},\n",
              "    {'is_epic': False, 'issue_number': 36, 'position': 7},\n",
              "    {'is_epic': False, 'issue_number': 37, 'position': 8},\n",
              "    {'is_epic': False, 'issue_number': 38, 'position': 9},\n",
              "    {'is_epic': False, 'issue_number': 39, 'position': 10},\n",
              "    {'is_epic': False, 'issue_number': 40, 'position': 11},\n",
              "    {'is_epic': False, 'issue_number': 42, 'position': 12},\n",
              "    {'is_epic': False, 'issue_number': 43, 'position': 13}],\n",
              "   'name': 'Backlog'},\n",
              "  {'id': 'Z2lkOi8vcmFwdG9yL1BpcGVsaW5lLzIxOTE4OTc',\n",
              "   'issues': [{'is_epic': False, 'issue_number': 10, 'position': 3},\n",
              "    {'is_epic': False, 'issue_number': 32, 'position': 5},\n",
              "    {'is_epic': False, 'issue_number': 44, 'position': 8},\n",
              "    {'is_epic': False, 'issue_number': 46, 'position': 9},\n",
              "    {'is_epic': False, 'issue_number': 45, 'position': 10},\n",
              "    {'is_epic': False, 'issue_number': 35, 'position': 11},\n",
              "    {'is_epic': False, 'issue_number': 12, 'position': 15},\n",
              "    {'is_epic': False, 'issue_number': 41, 'position': 16}],\n",
              "   'name': 'In Progress'},\n",
              "  {'id': 'Z2lkOi8vcmFwdG9yL1BpcGVsaW5lLzIxOTU3NzY',\n",
              "   'issues': [],\n",
              "   'name': 'Peer Review'}]}"
            ]
          },
          "metadata": {
            "tags": []
          },
          "execution_count": 5
        }
      ]
    },
    {
      "cell_type": "code",
      "metadata": {
        "id": "wh2eqK6bPjeb",
        "colab_type": "code",
        "colab": {
          "base_uri": "https://localhost:8080/",
          "height": 195
        },
        "outputId": "4e5f230a-b367-4772-b902-ca61750d8b49"
      },
      "source": [
        "data1 = json_normalize(data, 'pipelines')\n",
        "df = pd.DataFrame.from_dict(data1)\n",
        "df= df[['name', 'issues']]\n",
        "df = pd.concat([df.drop(['issues'], axis=1), df['issues'].apply(pd.Series)], axis=1)\n",
        "df = df.groupby(by='name').agg('count')\n",
        "df"
      ],
      "execution_count": 6,
      "outputs": [
        {
          "output_type": "execute_result",
          "data": {
            "text/html": [
              "<div>\n",
              "<style scoped>\n",
              "    .dataframe tbody tr th:only-of-type {\n",
              "        vertical-align: middle;\n",
              "    }\n",
              "\n",
              "    .dataframe tbody tr th {\n",
              "        vertical-align: top;\n",
              "    }\n",
              "\n",
              "    .dataframe thead th {\n",
              "        text-align: right;\n",
              "    }\n",
              "</style>\n",
              "<table border=\"1\" class=\"dataframe\">\n",
              "  <thead>\n",
              "    <tr style=\"text-align: right;\">\n",
              "      <th></th>\n",
              "      <th>0</th>\n",
              "      <th>1</th>\n",
              "      <th>2</th>\n",
              "      <th>3</th>\n",
              "      <th>4</th>\n",
              "      <th>5</th>\n",
              "      <th>6</th>\n",
              "      <th>7</th>\n",
              "      <th>8</th>\n",
              "      <th>9</th>\n",
              "    </tr>\n",
              "    <tr>\n",
              "      <th>name</th>\n",
              "      <th></th>\n",
              "      <th></th>\n",
              "      <th></th>\n",
              "      <th></th>\n",
              "      <th></th>\n",
              "      <th></th>\n",
              "      <th></th>\n",
              "      <th></th>\n",
              "      <th></th>\n",
              "      <th></th>\n",
              "    </tr>\n",
              "  </thead>\n",
              "  <tbody>\n",
              "    <tr>\n",
              "      <th>Backlog</th>\n",
              "      <td>1</td>\n",
              "      <td>1</td>\n",
              "      <td>1</td>\n",
              "      <td>1</td>\n",
              "      <td>1</td>\n",
              "      <td>1</td>\n",
              "      <td>1</td>\n",
              "      <td>1</td>\n",
              "      <td>1</td>\n",
              "      <td>1</td>\n",
              "    </tr>\n",
              "    <tr>\n",
              "      <th>In Progress</th>\n",
              "      <td>1</td>\n",
              "      <td>1</td>\n",
              "      <td>1</td>\n",
              "      <td>1</td>\n",
              "      <td>1</td>\n",
              "      <td>1</td>\n",
              "      <td>1</td>\n",
              "      <td>1</td>\n",
              "      <td>0</td>\n",
              "      <td>0</td>\n",
              "    </tr>\n",
              "    <tr>\n",
              "      <th>New Issues</th>\n",
              "      <td>0</td>\n",
              "      <td>0</td>\n",
              "      <td>0</td>\n",
              "      <td>0</td>\n",
              "      <td>0</td>\n",
              "      <td>0</td>\n",
              "      <td>0</td>\n",
              "      <td>0</td>\n",
              "      <td>0</td>\n",
              "      <td>0</td>\n",
              "    </tr>\n",
              "    <tr>\n",
              "      <th>Peer Review</th>\n",
              "      <td>0</td>\n",
              "      <td>0</td>\n",
              "      <td>0</td>\n",
              "      <td>0</td>\n",
              "      <td>0</td>\n",
              "      <td>0</td>\n",
              "      <td>0</td>\n",
              "      <td>0</td>\n",
              "      <td>0</td>\n",
              "      <td>0</td>\n",
              "    </tr>\n",
              "  </tbody>\n",
              "</table>\n",
              "</div>"
            ],
            "text/plain": [
              "             0  1  2  3  4  5  6  7  8  9\n",
              "name                                     \n",
              "Backlog      1  1  1  1  1  1  1  1  1  1\n",
              "In Progress  1  1  1  1  1  1  1  1  0  0\n",
              "New Issues   0  0  0  0  0  0  0  0  0  0\n",
              "Peer Review  0  0  0  0  0  0  0  0  0  0"
            ]
          },
          "metadata": {
            "tags": []
          },
          "execution_count": 6
        }
      ]
    },
    {
      "cell_type": "code",
      "metadata": {
        "id": "tNHEv5LnPxNS",
        "colab_type": "code",
        "colab": {
          "base_uri": "https://localhost:8080/",
          "height": 195
        },
        "outputId": "b6948aff-d98e-45df-a0c4-2dbf77ec7397"
      },
      "source": [
        "df['Total'] = df.sum(axis=1)\n",
        "df"
      ],
      "execution_count": 7,
      "outputs": [
        {
          "output_type": "execute_result",
          "data": {
            "text/html": [
              "<div>\n",
              "<style scoped>\n",
              "    .dataframe tbody tr th:only-of-type {\n",
              "        vertical-align: middle;\n",
              "    }\n",
              "\n",
              "    .dataframe tbody tr th {\n",
              "        vertical-align: top;\n",
              "    }\n",
              "\n",
              "    .dataframe thead th {\n",
              "        text-align: right;\n",
              "    }\n",
              "</style>\n",
              "<table border=\"1\" class=\"dataframe\">\n",
              "  <thead>\n",
              "    <tr style=\"text-align: right;\">\n",
              "      <th></th>\n",
              "      <th>0</th>\n",
              "      <th>1</th>\n",
              "      <th>2</th>\n",
              "      <th>3</th>\n",
              "      <th>4</th>\n",
              "      <th>5</th>\n",
              "      <th>6</th>\n",
              "      <th>7</th>\n",
              "      <th>8</th>\n",
              "      <th>9</th>\n",
              "      <th>Total</th>\n",
              "    </tr>\n",
              "    <tr>\n",
              "      <th>name</th>\n",
              "      <th></th>\n",
              "      <th></th>\n",
              "      <th></th>\n",
              "      <th></th>\n",
              "      <th></th>\n",
              "      <th></th>\n",
              "      <th></th>\n",
              "      <th></th>\n",
              "      <th></th>\n",
              "      <th></th>\n",
              "      <th></th>\n",
              "    </tr>\n",
              "  </thead>\n",
              "  <tbody>\n",
              "    <tr>\n",
              "      <th>Backlog</th>\n",
              "      <td>1</td>\n",
              "      <td>1</td>\n",
              "      <td>1</td>\n",
              "      <td>1</td>\n",
              "      <td>1</td>\n",
              "      <td>1</td>\n",
              "      <td>1</td>\n",
              "      <td>1</td>\n",
              "      <td>1</td>\n",
              "      <td>1</td>\n",
              "      <td>10</td>\n",
              "    </tr>\n",
              "    <tr>\n",
              "      <th>In Progress</th>\n",
              "      <td>1</td>\n",
              "      <td>1</td>\n",
              "      <td>1</td>\n",
              "      <td>1</td>\n",
              "      <td>1</td>\n",
              "      <td>1</td>\n",
              "      <td>1</td>\n",
              "      <td>1</td>\n",
              "      <td>0</td>\n",
              "      <td>0</td>\n",
              "      <td>8</td>\n",
              "    </tr>\n",
              "    <tr>\n",
              "      <th>New Issues</th>\n",
              "      <td>0</td>\n",
              "      <td>0</td>\n",
              "      <td>0</td>\n",
              "      <td>0</td>\n",
              "      <td>0</td>\n",
              "      <td>0</td>\n",
              "      <td>0</td>\n",
              "      <td>0</td>\n",
              "      <td>0</td>\n",
              "      <td>0</td>\n",
              "      <td>0</td>\n",
              "    </tr>\n",
              "    <tr>\n",
              "      <th>Peer Review</th>\n",
              "      <td>0</td>\n",
              "      <td>0</td>\n",
              "      <td>0</td>\n",
              "      <td>0</td>\n",
              "      <td>0</td>\n",
              "      <td>0</td>\n",
              "      <td>0</td>\n",
              "      <td>0</td>\n",
              "      <td>0</td>\n",
              "      <td>0</td>\n",
              "      <td>0</td>\n",
              "    </tr>\n",
              "  </tbody>\n",
              "</table>\n",
              "</div>"
            ],
            "text/plain": [
              "             0  1  2  3  4  5  6  7  8  9  Total\n",
              "name                                            \n",
              "Backlog      1  1  1  1  1  1  1  1  1  1     10\n",
              "In Progress  1  1  1  1  1  1  1  1  0  0      8\n",
              "New Issues   0  0  0  0  0  0  0  0  0  0      0\n",
              "Peer Review  0  0  0  0  0  0  0  0  0  0      0"
            ]
          },
          "metadata": {
            "tags": []
          },
          "execution_count": 7
        }
      ]
    },
    {
      "cell_type": "code",
      "metadata": {
        "id": "VLkXDO1MP0vI",
        "colab_type": "code",
        "colab": {
          "base_uri": "https://localhost:8080/",
          "height": 195
        },
        "outputId": "fe0e513e-e667-4752-a106-d76f31d431de"
      },
      "source": [
        "df= df[['Total']]\n",
        "\n",
        "df"
      ],
      "execution_count": 8,
      "outputs": [
        {
          "output_type": "execute_result",
          "data": {
            "text/html": [
              "<div>\n",
              "<style scoped>\n",
              "    .dataframe tbody tr th:only-of-type {\n",
              "        vertical-align: middle;\n",
              "    }\n",
              "\n",
              "    .dataframe tbody tr th {\n",
              "        vertical-align: top;\n",
              "    }\n",
              "\n",
              "    .dataframe thead th {\n",
              "        text-align: right;\n",
              "    }\n",
              "</style>\n",
              "<table border=\"1\" class=\"dataframe\">\n",
              "  <thead>\n",
              "    <tr style=\"text-align: right;\">\n",
              "      <th></th>\n",
              "      <th>Total</th>\n",
              "    </tr>\n",
              "    <tr>\n",
              "      <th>name</th>\n",
              "      <th></th>\n",
              "    </tr>\n",
              "  </thead>\n",
              "  <tbody>\n",
              "    <tr>\n",
              "      <th>Backlog</th>\n",
              "      <td>10</td>\n",
              "    </tr>\n",
              "    <tr>\n",
              "      <th>In Progress</th>\n",
              "      <td>8</td>\n",
              "    </tr>\n",
              "    <tr>\n",
              "      <th>New Issues</th>\n",
              "      <td>0</td>\n",
              "    </tr>\n",
              "    <tr>\n",
              "      <th>Peer Review</th>\n",
              "      <td>0</td>\n",
              "    </tr>\n",
              "  </tbody>\n",
              "</table>\n",
              "</div>"
            ],
            "text/plain": [
              "             Total\n",
              "name              \n",
              "Backlog         10\n",
              "In Progress      8\n",
              "New Issues       0\n",
              "Peer Review      0"
            ]
          },
          "metadata": {
            "tags": []
          },
          "execution_count": 8
        }
      ]
    }
  ]
}