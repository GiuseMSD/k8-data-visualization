{
 "cells": [
  {
   "cell_type": "code",
   "execution_count": 2,
   "metadata": {},
   "outputs": [],
   "source": [
    "# import modules\n",
    "import json\n",
    "import requests\n",
    "from pandas.io.json import json_normalize\n",
    "import pandas as pd\n",
    "pd.options.display.max_columns=None\n",
    "import numpy as np\n",
    "from models.pull_requests import PR\n",
    "from models.issues import Issues\n",
    "from models import config"
   ]
  },
  {
   "cell_type": "code",
   "execution_count": 3,
   "metadata": {},
   "outputs": [],
   "source": [
    "# list the repos\n",
    "repo =['k8-reverse-proxy','k8-traffic-generator','k8-glasswall-rebuild',\n",
    "       'k8-data-visualization', 'k8-performance-use-cases', 'rebuild-k8s-filetypedetection']"
   ]
  },
  {
   "cell_type": "code",
   "execution_count": 4,
   "metadata": {},
   "outputs": [],
   "source": [
    "rp = PR(repo[1])"
   ]
  },
  {
   "cell_type": "code",
   "execution_count": 5,
   "metadata": {},
   "outputs": [],
   "source": [
    "# create a dataframe of PR associated to that repo\n",
    "df = rp.get_prs()"
   ]
  },
  {
   "cell_type": "code",
   "execution_count": 6,
   "metadata": {
    "scrolled": false
   },
   "outputs": [
    {
     "data": {
      "text/html": [
       "<div>\n",
       "<style scoped>\n",
       "    .dataframe tbody tr th:only-of-type {\n",
       "        vertical-align: middle;\n",
       "    }\n",
       "\n",
       "    .dataframe tbody tr th {\n",
       "        vertical-align: top;\n",
       "    }\n",
       "\n",
       "    .dataframe thead th {\n",
       "        text-align: right;\n",
       "    }\n",
       "</style>\n",
       "<table border=\"1\" class=\"dataframe\">\n",
       "  <thead>\n",
       "    <tr style=\"text-align: right;\">\n",
       "      <th></th>\n",
       "      <th>url</th>\n",
       "      <th>id</th>\n",
       "      <th>node_id</th>\n",
       "      <th>html_url</th>\n",
       "      <th>diff_url</th>\n",
       "      <th>patch_url</th>\n",
       "      <th>issue_url</th>\n",
       "      <th>number</th>\n",
       "      <th>state</th>\n",
       "      <th>locked</th>\n",
       "      <th>title</th>\n",
       "      <th>user</th>\n",
       "      <th>body</th>\n",
       "      <th>created_at</th>\n",
       "      <th>updated_at</th>\n",
       "      <th>closed_at</th>\n",
       "      <th>merged_at</th>\n",
       "      <th>merge_commit_sha</th>\n",
       "      <th>assignee</th>\n",
       "      <th>assignees</th>\n",
       "      <th>requested_reviewers</th>\n",
       "      <th>requested_teams</th>\n",
       "      <th>labels</th>\n",
       "      <th>milestone</th>\n",
       "      <th>draft</th>\n",
       "      <th>commits_url</th>\n",
       "      <th>review_comments_url</th>\n",
       "      <th>review_comment_url</th>\n",
       "      <th>comments_url</th>\n",
       "      <th>statuses_url</th>\n",
       "      <th>head</th>\n",
       "      <th>base</th>\n",
       "      <th>_links</th>\n",
       "      <th>author_association</th>\n",
       "      <th>active_lock_reason</th>\n",
       "    </tr>\n",
       "  </thead>\n",
       "  <tbody>\n",
       "    <tr>\n",
       "      <th>0</th>\n",
       "      <td>https://api.github.com/repos/filetrust/k8-traf...</td>\n",
       "      <td>475879501</td>\n",
       "      <td>MDExOlB1bGxSZXF1ZXN0NDc1ODc5NTAx</td>\n",
       "      <td>https://github.com/filetrust/k8-traffic-genera...</td>\n",
       "      <td>https://github.com/filetrust/k8-traffic-genera...</td>\n",
       "      <td>https://github.com/filetrust/k8-traffic-genera...</td>\n",
       "      <td>https://api.github.com/repos/filetrust/k8-traf...</td>\n",
       "      <td>39</td>\n",
       "      <td>open</td>\n",
       "      <td>False</td>\n",
       "      <td>Consolidate upwork-devs</td>\n",
       "      <td>{'login': 'yardenshoham', 'id': 20454870, 'nod...</td>\n",
       "      <td>Closes #38</td>\n",
       "      <td>2020-08-30T08:09:22Z</td>\n",
       "      <td>2020-08-30T08:09:34Z</td>\n",
       "      <td>None</td>\n",
       "      <td>None</td>\n",
       "      <td>770e322fbcabbe1e5bdc3b01925213d935405021</td>\n",
       "      <td>None</td>\n",
       "      <td>[]</td>\n",
       "      <td>[{'login': 'DinisCruz', 'id': 656739, 'node_id...</td>\n",
       "      <td>[]</td>\n",
       "      <td>[{'id': 2303960343, 'node_id': 'MDU6TGFiZWwyMz...</td>\n",
       "      <td>None</td>\n",
       "      <td>False</td>\n",
       "      <td>https://api.github.com/repos/filetrust/k8-traf...</td>\n",
       "      <td>https://api.github.com/repos/filetrust/k8-traf...</td>\n",
       "      <td>https://api.github.com/repos/filetrust/k8-traf...</td>\n",
       "      <td>https://api.github.com/repos/filetrust/k8-traf...</td>\n",
       "      <td>https://api.github.com/repos/filetrust/k8-traf...</td>\n",
       "      <td>{'label': 'filetrust:consolidate-upwork-devs',...</td>\n",
       "      <td>{'label': 'filetrust:master', 'ref': 'master',...</td>\n",
       "      <td>{'self': {'href': 'https://api.github.com/repo...</td>\n",
       "      <td>COLLABORATOR</td>\n",
       "      <td>None</td>\n",
       "    </tr>\n",
       "  </tbody>\n",
       "</table>\n",
       "</div>"
      ],
      "text/plain": [
       "                                                 url         id  \\\n",
       "0  https://api.github.com/repos/filetrust/k8-traf...  475879501   \n",
       "\n",
       "                            node_id  \\\n",
       "0  MDExOlB1bGxSZXF1ZXN0NDc1ODc5NTAx   \n",
       "\n",
       "                                            html_url  \\\n",
       "0  https://github.com/filetrust/k8-traffic-genera...   \n",
       "\n",
       "                                            diff_url  \\\n",
       "0  https://github.com/filetrust/k8-traffic-genera...   \n",
       "\n",
       "                                           patch_url  \\\n",
       "0  https://github.com/filetrust/k8-traffic-genera...   \n",
       "\n",
       "                                           issue_url  number state  locked  \\\n",
       "0  https://api.github.com/repos/filetrust/k8-traf...      39  open   False   \n",
       "\n",
       "                     title                                               user  \\\n",
       "0  Consolidate upwork-devs  {'login': 'yardenshoham', 'id': 20454870, 'nod...   \n",
       "\n",
       "          body            created_at            updated_at closed_at  \\\n",
       "0  Closes #38   2020-08-30T08:09:22Z  2020-08-30T08:09:34Z      None   \n",
       "\n",
       "  merged_at                          merge_commit_sha assignee assignees  \\\n",
       "0      None  770e322fbcabbe1e5bdc3b01925213d935405021     None        []   \n",
       "\n",
       "                                 requested_reviewers requested_teams  \\\n",
       "0  [{'login': 'DinisCruz', 'id': 656739, 'node_id...              []   \n",
       "\n",
       "                                              labels milestone  draft  \\\n",
       "0  [{'id': 2303960343, 'node_id': 'MDU6TGFiZWwyMz...      None  False   \n",
       "\n",
       "                                         commits_url  \\\n",
       "0  https://api.github.com/repos/filetrust/k8-traf...   \n",
       "\n",
       "                                 review_comments_url  \\\n",
       "0  https://api.github.com/repos/filetrust/k8-traf...   \n",
       "\n",
       "                                  review_comment_url  \\\n",
       "0  https://api.github.com/repos/filetrust/k8-traf...   \n",
       "\n",
       "                                        comments_url  \\\n",
       "0  https://api.github.com/repos/filetrust/k8-traf...   \n",
       "\n",
       "                                        statuses_url  \\\n",
       "0  https://api.github.com/repos/filetrust/k8-traf...   \n",
       "\n",
       "                                                head  \\\n",
       "0  {'label': 'filetrust:consolidate-upwork-devs',...   \n",
       "\n",
       "                                                base  \\\n",
       "0  {'label': 'filetrust:master', 'ref': 'master',...   \n",
       "\n",
       "                                              _links author_association  \\\n",
       "0  {'self': {'href': 'https://api.github.com/repo...       COLLABORATOR   \n",
       "\n",
       "  active_lock_reason  \n",
       "0               None  "
      ]
     },
     "execution_count": 6,
     "metadata": {},
     "output_type": "execute_result"
    }
   ],
   "source": [
    "# show the dataframe\n",
    "df.head(1)"
   ]
  },
  {
   "cell_type": "code",
   "execution_count": 7,
   "metadata": {
    "scrolled": true
   },
   "outputs": [
    {
     "data": {
      "text/plain": [
       "{'total_number_of_PR': 2,\n",
       " 'number_of_open_PR': 2,\n",
       " 'number_of_closed_PR': 0,\n",
       " 'pr_numbers': [39, 33]}"
      ]
     },
     "execution_count": 7,
     "metadata": {},
     "output_type": "execute_result"
    }
   ],
   "source": [
    "# get a summary of repo PRs\n",
    "rp.get_summary()"
   ]
  },
  {
   "cell_type": "code",
   "execution_count": 9,
   "metadata": {},
   "outputs": [
    {
     "data": {
      "text/plain": [
       "{'number': 33,\n",
       " 'state': 'open',\n",
       " 'locked': False,\n",
       " 'title': 'Traffic Generated against Minio.',\n",
       " 'user': 'xuxant',\n",
       " 'created_at': '2020-08-28T15:01:47Z',\n",
       " 'updated_at': '2020-08-30T00:51:30Z',\n",
       " 'closed_at': None,\n",
       " 'merged_at': None,\n",
       " 'assignee': ['xuxant'],\n",
       " 'assignees': ['xuxant'],\n",
       " 'requested_reviewers': [None],\n",
       " 'labels': ['admin-needed'],\n",
       " 'author_association': 'COLLABORATOR',\n",
       " 'active_lock_reason': None}"
      ]
     },
     "execution_count": 9,
     "metadata": {},
     "output_type": "execute_result"
    }
   ],
   "source": [
    "# get a report of a PR based on PR numer\n",
    "rp.get_pr_details(33)"
   ]
  },
  {
   "cell_type": "code",
   "execution_count": null,
   "metadata": {},
   "outputs": [],
   "source": []
  }
 ],
 "metadata": {
  "kernelspec": {
   "display_name": "Python 3",
   "language": "python",
   "name": "python3"
  },
  "language_info": {
   "codemirror_mode": {
    "name": "ipython",
    "version": 3
   },
   "file_extension": ".py",
   "mimetype": "text/x-python",
   "name": "python",
   "nbconvert_exporter": "python",
   "pygments_lexer": "ipython3",
   "version": "3.7.5"
  }
 },
 "nbformat": 4,
 "nbformat_minor": 1
}
