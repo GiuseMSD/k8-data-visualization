{
 "cells": [
  {
   "cell_type": "markdown",
   "metadata": {},
   "source": [
    "<b> Importing the necessary libraries</b>"
   ]
  },
  {
   "cell_type": "code",
   "execution_count": 1,
   "metadata": {},
   "outputs": [],
   "source": [
    "import numpy as np\n",
    "import pandas as pd\n",
    "import matplotlib.pyplot as plt\n",
    "import seaborn as sns\n",
    "import requests\n",
    "import os\n",
    "import json\n",
    "import sys\n",
    "from pprint import pprint\n",
    "import pandas as pd\n",
    "from datetime import timedelta\n",
    "from pandas.io.json import json_normalize\n",
    "import warnings\n",
    "warnings.filterwarnings('ignore')\n",
    "pd.set_option('display.max_rows', None)\n",
    "pd.set_option('display.max_columns', None)"
   ]
  },
  {
   "cell_type": "markdown",
   "metadata": {},
   "source": [
    "<b>Setting current working directory absolute path</b>"
   ]
  },
  {
   "cell_type": "code",
   "execution_count": 2,
   "metadata": {},
   "outputs": [],
   "source": [
    "temp = os.getcwd().split('/')\n",
    "path = '/'.join(temp[:(len(temp))])"
   ]
  },
  {
   "cell_type": "markdown",
   "metadata": {},
   "source": [
    "<b>Reading and initializing the config values</b>"
   ]
  },
  {
   "cell_type": "code",
   "execution_count": 3,
   "metadata": {},
   "outputs": [],
   "source": [
    "try:\n",
    "    with open(path+'/token.json') as file:\n",
    "        config = json.load(file)\n",
    "except Exception:\n",
    "    print('Config file not found / JSON format wrong in file')\n",
    "    sys.exit(0)"
   ]
  },
  {
   "cell_type": "markdown",
   "metadata": {},
   "source": [
    "<b>Defining the <i>token</i>, <i>params</i> and <i>headers</i> for the requests</b>"
   ]
  },
  {
   "cell_type": "code",
   "execution_count": 4,
   "metadata": {},
   "outputs": [],
   "source": [
    "token = os.getenv('GITHUB_TOKEN', config['token'])\n",
    "parameters = {\"state\" : \"all\",}\n",
    "headers = {'Authorization' : f'token {token}'}"
   ]
  },
  {
   "cell_type": "markdown",
   "metadata": {},
   "source": [
    "<b>Passing the name of repositories whose issues are to be visualised in a list</b>"
   ]
  },
  {
   "cell_type": "code",
   "execution_count": 5,
   "metadata": {},
   "outputs": [],
   "source": [
    "repo = ['mvp-icap-service', 'mvp-icap-cloud', 'mvp-icap-squid-cache-proxy', 'rebuild-k8s-filetypedetection',\\\n",
    "       'icap-performance-tests', 'rebuild-k8s']"
   ]
  },
  {
   "cell_type": "markdown",
   "metadata": {},
   "source": [
    "<b>Fetching the issues data in JSON from the respective reposetories and appending them to a list</b>"
   ]
  },
  {
   "cell_type": "code",
   "execution_count": null,
   "metadata": {},
   "outputs": [],
   "source": [
    "data = []\n",
    "for i in range(0, len(repo)):\n",
    "    data.append(requests.get('https://api.github.com/repos/filetrust/'+repo[i]+'/issues', headers = headers, params = parameters).json())"
   ]
  },
  {
   "cell_type": "markdown",
   "metadata": {},
   "source": [
    "<b>Normalizing the JSON objects in order to convert them to DataFrames and appending them to another list</b>"
   ]
  },
  {
   "cell_type": "code",
   "execution_count": null,
   "metadata": {},
   "outputs": [],
   "source": [
    "dataframes = []\n",
    "for i in range(0, len(data)):\n",
    "    dataframes.append(json_normalize(data[i], max_level = 1))"
   ]
  },
  {
   "cell_type": "markdown",
   "metadata": {},
   "source": [
    "<b>Adding <i>project_name</i> attribite and concatenating the DataFrames in order to get a single DataFrame of all the rows</b>"
   ]
  },
  {
   "cell_type": "code",
   "execution_count": null,
   "metadata": {},
   "outputs": [],
   "source": [
    "for i in range(0, len(dataframes)):\n",
    "    dataframes[i]['project_name'] = repo[i]\n",
    "df = pd.concat(dataframes, ignore_index = True)"
   ]
  },
  {
   "cell_type": "markdown",
   "metadata": {},
   "source": [
    "<b>Getting rid of irrelevent columns</b>"
   ]
  },
  {
   "cell_type": "code",
   "execution_count": null,
   "metadata": {},
   "outputs": [],
   "source": [
    "df= df[['created_at', 'state', 'closed_at','user.login','author_association', 'title','body', 'milestone.title','milestone.state','project_name']]"
   ]
  },
  {
   "cell_type": "markdown",
   "metadata": {},
   "source": [
    "<b>Extracting the creation and closure dates from the datetime variable <i>created_at</i> and <i>closed_at</i></b>"
   ]
  },
  {
   "cell_type": "code",
   "execution_count": null,
   "metadata": {},
   "outputs": [],
   "source": [
    "df.created_at = pd.to_datetime(df.created_at).dt.date\n",
    "df.closed_at = pd.to_datetime(df.closed_at).dt.date"
   ]
  },
  {
   "cell_type": "markdown",
   "metadata": {},
   "source": [
    "<b>Creating a variable <i>project_duration</i> to reflect the total duration of the project in days<b>"
   ]
  },
  {
   "cell_type": "code",
   "execution_count": null,
   "metadata": {},
   "outputs": [],
   "source": [
    "df['project_duration'] = (df.closed_at - df.created_at) + timedelta(days=1)"
   ]
  },
  {
   "cell_type": "code",
   "execution_count": null,
   "metadata": {},
   "outputs": [],
   "source": [
    "df.sample(5)"
   ]
  },
  {
   "cell_type": "markdown",
   "metadata": {},
   "source": [
    "<b> Testing the module</b>"
   ]
  },
  {
   "cell_type": "code",
   "execution_count": null,
   "metadata": {},
   "outputs": [],
   "source": [
    "import IssuesData\n",
    "repos = ['mvp-icap-service', 'mvp-icap-squid-cache-proxy', 'rebuild-k8s-filetypedetection',\\\n",
    "       'icap-performance-tests', 'rebuild-k8s']\n",
    "df = IssuesData.get_issues(repo = repos)\n",
    "df.shape"
   ]
  },
  {
   "cell_type": "code",
   "execution_count": null,
   "metadata": {},
   "outputs": [],
   "source": []
  }
 ],
 "metadata": {
  "kernelspec": {
   "display_name": "Python 3",
   "language": "python",
   "name": "python3"
  },
  "language_info": {
   "codemirror_mode": {
    "name": "ipython",
    "version": 3
   },
   "file_extension": ".py",
   "mimetype": "text/x-python",
   "name": "python",
   "nbconvert_exporter": "python",
   "pygments_lexer": "ipython3",
   "version": "3.7.6"
  }
 },
 "nbformat": 4,
 "nbformat_minor": 4
}
