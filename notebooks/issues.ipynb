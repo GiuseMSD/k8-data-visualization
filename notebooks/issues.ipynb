{
 "cells": [
  {
   "cell_type": "code",
   "execution_count": 9,
   "metadata": {},
   "outputs": [],
   "source": [
    "import json\n",
    "import requests\n",
    "from pandas.io.json import json_normalize\n",
    "import pandas as pd\n",
    "pd.options.display.max_columns=None\n",
    "import numpy as np\n",
    "from models import config\n",
    "from models.issues import Issues"
   ]
  },
  {
   "cell_type": "code",
   "execution_count": 10,
   "metadata": {},
   "outputs": [],
   "source": [
    "repo =['mvp-icap-service','mvp-icap-cloud','mvp-icap-squid-cache-proxy',\n",
    "       'rebuild-k8s-filetypedetection', 'icap-performance-tests','rebuild-k8s']"
   ]
  },
  {
   "cell_type": "code",
   "execution_count": 19,
   "metadata": {},
   "outputs": [],
   "source": [
    "service = Issues(repo[0])"
   ]
  },
  {
   "cell_type": "code",
   "execution_count": 20,
   "metadata": {},
   "outputs": [
    {
     "data": {
      "text/plain": [
       "(6, 25)"
      ]
     },
     "execution_count": 20,
     "metadata": {},
     "output_type": "execute_result"
    }
   ],
   "source": [
    "data = service.get_issues()\n",
    "data.shape"
   ]
  },
  {
   "cell_type": "code",
   "execution_count": 21,
   "metadata": {
    "scrolled": true
   },
   "outputs": [
    {
     "data": {
      "text/html": [
       "<div>\n",
       "<style scoped>\n",
       "    .dataframe tbody tr th:only-of-type {\n",
       "        vertical-align: middle;\n",
       "    }\n",
       "\n",
       "    .dataframe tbody tr th {\n",
       "        vertical-align: top;\n",
       "    }\n",
       "\n",
       "    .dataframe thead th {\n",
       "        text-align: right;\n",
       "    }\n",
       "</style>\n",
       "<table border=\"1\" class=\"dataframe\">\n",
       "  <thead>\n",
       "    <tr style=\"text-align: right;\">\n",
       "      <th></th>\n",
       "      <th>url</th>\n",
       "      <th>repository_url</th>\n",
       "      <th>labels_url</th>\n",
       "      <th>comments_url</th>\n",
       "      <th>events_url</th>\n",
       "      <th>html_url</th>\n",
       "      <th>id</th>\n",
       "      <th>node_id</th>\n",
       "      <th>number</th>\n",
       "      <th>title</th>\n",
       "      <th>user</th>\n",
       "      <th>labels</th>\n",
       "      <th>state</th>\n",
       "      <th>locked</th>\n",
       "      <th>assignee</th>\n",
       "      <th>assignees</th>\n",
       "      <th>milestone</th>\n",
       "      <th>comments</th>\n",
       "      <th>created_at</th>\n",
       "      <th>updated_at</th>\n",
       "      <th>closed_at</th>\n",
       "      <th>author_association</th>\n",
       "      <th>active_lock_reason</th>\n",
       "      <th>body</th>\n",
       "      <th>performed_via_github_app</th>\n",
       "    </tr>\n",
       "  </thead>\n",
       "  <tbody>\n",
       "    <tr>\n",
       "      <th>0</th>\n",
       "      <td>https://api.github.com/repos/filetrust/mvp-ica...</td>\n",
       "      <td>https://api.github.com/repos/filetrust/mvp-ica...</td>\n",
       "      <td>https://api.github.com/repos/filetrust/mvp-ica...</td>\n",
       "      <td>https://api.github.com/repos/filetrust/mvp-ica...</td>\n",
       "      <td>https://api.github.com/repos/filetrust/mvp-ica...</td>\n",
       "      <td>https://github.com/filetrust/mvp-icap-service/...</td>\n",
       "      <td>681865962</td>\n",
       "      <td>MDU6SXNzdWU2ODE4NjU5NjI=</td>\n",
       "      <td>8</td>\n",
       "      <td>Durable file component for icap--Delay in the ...</td>\n",
       "      <td>{'login': 'NadHodeGW', 'id': 61200359, 'node_i...</td>\n",
       "      <td>[{'id': 2257672191, 'node_id': 'MDU6TGFiZWwyMj...</td>\n",
       "      <td>open</td>\n",
       "      <td>False</td>\n",
       "      <td>None</td>\n",
       "      <td>[]</td>\n",
       "      <td>None</td>\n",
       "      <td>0</td>\n",
       "      <td>2020-08-19T14:01:52Z</td>\n",
       "      <td>2020-08-19T14:04:07Z</td>\n",
       "      <td>None</td>\n",
       "      <td>NONE</td>\n",
       "      <td>None</td>\n",
       "      <td>To replicate:\\n\\nLogin to Azure Portal &amp; go to...</td>\n",
       "      <td>None</td>\n",
       "    </tr>\n",
       "    <tr>\n",
       "      <th>1</th>\n",
       "      <td>https://api.github.com/repos/filetrust/mvp-ica...</td>\n",
       "      <td>https://api.github.com/repos/filetrust/mvp-ica...</td>\n",
       "      <td>https://api.github.com/repos/filetrust/mvp-ica...</td>\n",
       "      <td>https://api.github.com/repos/filetrust/mvp-ica...</td>\n",
       "      <td>https://api.github.com/repos/filetrust/mvp-ica...</td>\n",
       "      <td>https://github.com/filetrust/mvp-icap-service/...</td>\n",
       "      <td>674522821</td>\n",
       "      <td>MDU6SXNzdWU2NzQ1MjI4MjE=</td>\n",
       "      <td>5</td>\n",
       "      <td>Dockerise BLOB Storage Writer API Proxy app</td>\n",
       "      <td>{'login': 'BigPeeg', 'id': 1354372, 'node_id':...</td>\n",
       "      <td>[{'id': 2266613278, 'node_id': 'MDU6TGFiZWwyMj...</td>\n",
       "      <td>open</td>\n",
       "      <td>False</td>\n",
       "      <td>None</td>\n",
       "      <td>[]</td>\n",
       "      <td>{'url': 'https://api.github.com/repos/filetrus...</td>\n",
       "      <td>0</td>\n",
       "      <td>2020-08-06T18:39:25Z</td>\n",
       "      <td>2020-08-10T15:15:58Z</td>\n",
       "      <td>None</td>\n",
       "      <td>COLLABORATOR</td>\n",
       "      <td>None</td>\n",
       "      <td>In addition to supporting the ICAP Server, the...</td>\n",
       "      <td>None</td>\n",
       "    </tr>\n",
       "  </tbody>\n",
       "</table>\n",
       "</div>"
      ],
      "text/plain": [
       "                                                 url  \\\n",
       "0  https://api.github.com/repos/filetrust/mvp-ica...   \n",
       "1  https://api.github.com/repos/filetrust/mvp-ica...   \n",
       "\n",
       "                                      repository_url  \\\n",
       "0  https://api.github.com/repos/filetrust/mvp-ica...   \n",
       "1  https://api.github.com/repos/filetrust/mvp-ica...   \n",
       "\n",
       "                                          labels_url  \\\n",
       "0  https://api.github.com/repos/filetrust/mvp-ica...   \n",
       "1  https://api.github.com/repos/filetrust/mvp-ica...   \n",
       "\n",
       "                                        comments_url  \\\n",
       "0  https://api.github.com/repos/filetrust/mvp-ica...   \n",
       "1  https://api.github.com/repos/filetrust/mvp-ica...   \n",
       "\n",
       "                                          events_url  \\\n",
       "0  https://api.github.com/repos/filetrust/mvp-ica...   \n",
       "1  https://api.github.com/repos/filetrust/mvp-ica...   \n",
       "\n",
       "                                            html_url         id  \\\n",
       "0  https://github.com/filetrust/mvp-icap-service/...  681865962   \n",
       "1  https://github.com/filetrust/mvp-icap-service/...  674522821   \n",
       "\n",
       "                    node_id  number  \\\n",
       "0  MDU6SXNzdWU2ODE4NjU5NjI=       8   \n",
       "1  MDU6SXNzdWU2NzQ1MjI4MjE=       5   \n",
       "\n",
       "                                               title  \\\n",
       "0  Durable file component for icap--Delay in the ...   \n",
       "1        Dockerise BLOB Storage Writer API Proxy app   \n",
       "\n",
       "                                                user  \\\n",
       "0  {'login': 'NadHodeGW', 'id': 61200359, 'node_i...   \n",
       "1  {'login': 'BigPeeg', 'id': 1354372, 'node_id':...   \n",
       "\n",
       "                                              labels state  locked assignee  \\\n",
       "0  [{'id': 2257672191, 'node_id': 'MDU6TGFiZWwyMj...  open   False     None   \n",
       "1  [{'id': 2266613278, 'node_id': 'MDU6TGFiZWwyMj...  open   False     None   \n",
       "\n",
       "  assignees                                          milestone  comments  \\\n",
       "0        []                                               None         0   \n",
       "1        []  {'url': 'https://api.github.com/repos/filetrus...         0   \n",
       "\n",
       "             created_at            updated_at closed_at author_association  \\\n",
       "0  2020-08-19T14:01:52Z  2020-08-19T14:04:07Z      None               NONE   \n",
       "1  2020-08-06T18:39:25Z  2020-08-10T15:15:58Z      None       COLLABORATOR   \n",
       "\n",
       "  active_lock_reason                                               body  \\\n",
       "0               None  To replicate:\\n\\nLogin to Azure Portal & go to...   \n",
       "1               None  In addition to supporting the ICAP Server, the...   \n",
       "\n",
       "  performed_via_github_app  \n",
       "0                     None  \n",
       "1                     None  "
      ]
     },
     "execution_count": 21,
     "metadata": {},
     "output_type": "execute_result"
    }
   ],
   "source": [
    "data.head(2)"
   ]
  },
  {
   "cell_type": "code",
   "execution_count": 13,
   "metadata": {
    "scrolled": true
   },
   "outputs": [
    {
     "data": {
      "text/plain": [
       "Index(['url', 'repository_url', 'labels_url', 'comments_url', 'events_url',\n",
       "       'html_url', 'id', 'node_id', 'number', 'title', 'user', 'labels',\n",
       "       'state', 'locked', 'assignee', 'assignees', 'milestone', 'comments',\n",
       "       'created_at', 'updated_at', 'closed_at', 'author_association',\n",
       "       'active_lock_reason', 'body', 'performed_via_github_app'],\n",
       "      dtype='object')"
      ]
     },
     "execution_count": 13,
     "metadata": {},
     "output_type": "execute_result"
    }
   ],
   "source": [
    "data.columns"
   ]
  },
  {
   "cell_type": "code",
   "execution_count": 22,
   "metadata": {
    "scrolled": true
   },
   "outputs": [
    {
     "data": {
      "text/plain": [
       "{'total_number_of_issues': 6,\n",
       " 'number_of_open_issues': 6,\n",
       " 'number_of_closed_issues': 0}"
      ]
     },
     "execution_count": 22,
     "metadata": {},
     "output_type": "execute_result"
    }
   ],
   "source": [
    "service.report()"
   ]
  },
  {
   "cell_type": "code",
   "execution_count": 23,
   "metadata": {},
   "outputs": [
    {
     "data": {
      "text/plain": [
       "0    Durable file component for icap--Delay in the ...\n",
       "1          Dockerise BLOB Storage Writer API Proxy app\n",
       "2        Keda on K8s Cluster to enable scaling to zero\n",
       "3                Deploy ICAP Server within K8s Cluster\n",
       "4    Some files passing through ICAP solution emerg...\n",
       "5                    BLOB Storage Writer API Proxy app\n",
       "Name: title, dtype: object"
      ]
     },
     "execution_count": 23,
     "metadata": {},
     "output_type": "execute_result"
    }
   ],
   "source": [
    "data.title = data.title.str.strip()\n",
    "data.title"
   ]
  },
  {
   "cell_type": "code",
   "execution_count": 24,
   "metadata": {},
   "outputs": [
    {
     "data": {
      "text/plain": [
       "url                         object\n",
       "repository_url              object\n",
       "labels_url                  object\n",
       "comments_url                object\n",
       "events_url                  object\n",
       "html_url                    object\n",
       "id                           int64\n",
       "node_id                     object\n",
       "number                       int64\n",
       "title                       object\n",
       "user                        object\n",
       "labels                      object\n",
       "state                       object\n",
       "locked                        bool\n",
       "assignee                    object\n",
       "assignees                   object\n",
       "milestone                   object\n",
       "comments                     int64\n",
       "created_at                  object\n",
       "updated_at                  object\n",
       "closed_at                   object\n",
       "author_association          object\n",
       "active_lock_reason          object\n",
       "body                        object\n",
       "performed_via_github_app    object\n",
       "dtype: object"
      ]
     },
     "execution_count": 24,
     "metadata": {},
     "output_type": "execute_result"
    }
   ],
   "source": [
    "data.dtypes"
   ]
  },
  {
   "cell_type": "code",
   "execution_count": 25,
   "metadata": {},
   "outputs": [],
   "source": [
    "for col in data.filter(like='_at').columns:\n",
    "    data[col] = pd.to_datetime(data[col])"
   ]
  },
  {
   "cell_type": "code",
   "execution_count": 26,
   "metadata": {},
   "outputs": [
    {
     "data": {
      "text/plain": [
       "url                                      object\n",
       "repository_url                           object\n",
       "labels_url                               object\n",
       "comments_url                             object\n",
       "events_url                               object\n",
       "html_url                                 object\n",
       "id                                        int64\n",
       "node_id                                  object\n",
       "number                                    int64\n",
       "title                                    object\n",
       "user                                     object\n",
       "labels                                   object\n",
       "state                                    object\n",
       "locked                                     bool\n",
       "assignee                                 object\n",
       "assignees                                object\n",
       "milestone                                object\n",
       "comments                                  int64\n",
       "created_at                  datetime64[ns, UTC]\n",
       "updated_at                  datetime64[ns, UTC]\n",
       "closed_at                        datetime64[ns]\n",
       "author_association                       object\n",
       "active_lock_reason                       object\n",
       "body                                     object\n",
       "performed_via_github_app                 object\n",
       "dtype: object"
      ]
     },
     "execution_count": 26,
     "metadata": {},
     "output_type": "execute_result"
    }
   ],
   "source": [
    "data.dtypes"
   ]
  },
  {
   "cell_type": "code",
   "execution_count": 27,
   "metadata": {},
   "outputs": [
    {
     "data": {
      "text/plain": [
       "{'total_number_of_issues': 10,\n",
       " 'number_of_open_issues': 10,\n",
       " 'number_of_closed_issues': 0}"
      ]
     },
     "execution_count": 27,
     "metadata": {},
     "output_type": "execute_result"
    }
   ],
   "source": [
    "cloud = Issues(repo[1])\n",
    "cloud.report()"
   ]
  },
  {
   "cell_type": "code",
   "execution_count": null,
   "metadata": {},
   "outputs": [],
   "source": []
  }
 ],
 "metadata": {
  "kernelspec": {
   "display_name": "venv",
   "language": "python",
   "name": "venv"
  },
  "language_info": {
   "codemirror_mode": {
    "name": "ipython",
    "version": 3
   },
   "file_extension": ".py",
   "mimetype": "text/x-python",
   "name": "python",
   "nbconvert_exporter": "python",
   "pygments_lexer": "ipython3",
   "version": "3.7.5"
  }
 },
 "nbformat": 4,
 "nbformat_minor": 4
}
